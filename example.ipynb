{
 "cells": [
  {
   "cell_type": "code",
   "execution_count": null,
   "id": "bf7af3ba-5eff-4c12-ad9c-a2f78946cfad",
   "metadata": {},
   "outputs": [],
   "source": [
    "print('Hello words')"
   ]
  }
 ],
 "metadata": {
  "kernelspec": {
   "display_name": "Python 3 (ipykernel)",
   "language": "python",
   "name": "python3"
  },
  "language_info": {
   "codemirror_mode": {
    "name": "ipython",
    "version": 3
   },
   "file_extension": ".py",
   "mimetype": "text/x-python",
   "name": "python",
   "nbconvert_exporter": "python",
   "pygments_lexer": "ipython3",
   "version": "3.11.7"
  }
 },
 "nbformat": 4,
 "nbformat_minor": 5
}
